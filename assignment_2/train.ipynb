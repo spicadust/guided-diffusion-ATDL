{
 "cells": [
  {
   "cell_type": "code",
   "execution_count": 2,
   "metadata": {},
   "outputs": [],
   "source": [
    "import argparse\n",
    "\n",
    "from guided_diffusion import dist_util, logger\n",
    "from guided_diffusion.image_datasets import load_data\n",
    "from guided_diffusion.resample import create_named_schedule_sampler\n",
    "from guided_diffusion.script_util import (\n",
    "    model_and_diffusion_defaults,\n",
    "    create_model_and_diffusion,\n",
    "    args_to_dict,\n",
    "    add_dict_to_argparser,\n",
    ")\n",
    "from guided_diffusion.train_util import TrainLoop"
   ]
  },
  {
   "cell_type": "code",
   "execution_count": 1,
   "metadata": {},
   "outputs": [],
   "source": [
    "from guided_diffusion import dist_util, logger\n"
   ]
  },
  {
   "cell_type": "code",
   "execution_count": null,
   "metadata": {},
   "outputs": [],
   "source": [
    "def main():\n",
    "    args = create_argparser().parse_args()\n",
    "\n",
    "    dist_util.setup_dist()\n",
    "    logger.configure()\n",
    "\n",
    "    logger.log(\"creating model and diffusion...\")\n",
    "    model, diffusion = create_model_and_diffusion(\n",
    "        **args_to_dict(args, model_and_diffusion_defaults().keys())\n",
    "    )\n",
    "    model.to(dist_util.dev())\n",
    "    schedule_sampler = create_named_schedule_sampler(args.schedule_sampler, diffusion)\n",
    "\n",
    "    logger.log(\"creating data loader...\")\n",
    "    data = load_data(\n",
    "        data_dir=args.data_dir,\n",
    "        batch_size=args.batch_size,\n",
    "        image_size=args.image_size,\n",
    "        class_cond=args.class_cond,\n",
    "    )\n",
    "\n",
    "    logger.log(\"training...\")\n",
    "    TrainLoop(\n",
    "        model=model,\n",
    "        diffusion=diffusion,\n",
    "        data=data,\n",
    "        batch_size=args.batch_size,\n",
    "        microbatch=args.microbatch,\n",
    "        lr=args.lr,\n",
    "        ema_rate=args.ema_rate,\n",
    "        log_interval=args.log_interval,\n",
    "        save_interval=args.save_interval,\n",
    "        resume_checkpoint=args.resume_checkpoint,\n",
    "        use_fp16=args.use_fp16,\n",
    "        fp16_scale_growth=args.fp16_scale_growth,\n",
    "        schedule_sampler=schedule_sampler,\n",
    "        weight_decay=args.weight_decay,\n",
    "        lr_anneal_steps=args.lr_anneal_steps,\n",
    "    ).run_loop()\n",
    "\n",
    "\n",
    "def create_argparser():\n",
    "    defaults = dict(\n",
    "        data_dir=\"/home/reijimc-ubuntu/Repos/guided-diffusion-ATDL/.fastai/data\",\n",
    "        schedule_sampler=\"uniform\",\n",
    "        lr=1e-4,\n",
    "        weight_decay=0.0,\n",
    "        lr_anneal_steps=0,\n",
    "        batch_size=1,\n",
    "        microbatch=-1,  # -1 disables microbatches\n",
    "        ema_rate=\"0.9999\",  # comma-separated list of EMA values\n",
    "        log_interval=10,\n",
    "        save_interval=10000,\n",
    "        resume_checkpoint=\"\",\n",
    "        use_fp16=False,\n",
    "        fp16_scale_growth=1e-3,\n",
    "    )\n",
    "    defaults.update(model_and_diffusion_defaults())\n",
    "    parser = argparse.ArgumentParser()\n",
    "    add_dict_to_argparser(parser, defaults)\n",
    "    return parser\n",
    "\n",
    "\n",
    "if __name__ == \"__main__\":\n",
    "    main()\n"
   ]
  }
 ],
 "metadata": {
  "kernelspec": {
   "display_name": "assignment-2-1oBb0mnd-py3.12",
   "language": "python",
   "name": "python3"
  },
  "language_info": {
   "codemirror_mode": {
    "name": "ipython",
    "version": 3
   },
   "file_extension": ".py",
   "mimetype": "text/x-python",
   "name": "python",
   "nbconvert_exporter": "python",
   "pygments_lexer": "ipython3",
   "version": "3.9.20"
  }
 },
 "nbformat": 4,
 "nbformat_minor": 2
}
